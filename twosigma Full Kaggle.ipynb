{
  "cells": [
    {
      "metadata": {
        "_uuid": "fb3f1f8c09350371ec9d9dd7bd8b86449bf4e185"
      },
      "cell_type": "markdown",
      "source": "# Portfolio selection to maximize returns\n*Problem Statement* : Given asset price history and a budget (say $100,000),  determine maximum possible returns for a given past period.\n*Strategy* : On each day of the investment period, invest the entire budget on the asset which gave the highest return for that day."
    },
    {
      "metadata": {
        "_uuid": "95b52f499490d73c26e99af006d7f1c56d3f3977"
      },
      "cell_type": "markdown",
      "source": "**Data Preparation**"
    },
    {
      "metadata": {
        "_uuid": "8f2839f25d086af736a60e9eeb907d3b93b6e0e5",
        "_cell_guid": "b1076dfc-b9ad-4769-8c92-a6c4dae69d19",
        "trusted": true
      },
      "cell_type": "code",
      "source": "import numpy as np # linear algebra\nimport pandas as pd # data processing, CSV file I/O (e.g. pd.read_csv)\nimport time\nfrom datetime import datetime as dt\nfrom scipy.optimize import linprog\nfrom kaggle.competitions import twosigmanews \n\nimport os\nprint(os.listdir(\"../input\"))\nenv = twosigmanews.make_env()\nprint(os.listdir(\"../input\"))\n(market_df, new_df) = env.get_training_data()\n\n# Convert the data type of 'time' column from datetime to date\nmarket_df['time']=  market_df['time'].dt.date\n\n# Copy the required columns\nmarket_df_sorted = market_df[['time','assetCode','close','open','returnsOpenPrevRaw1']].copy(deep=True)\n\n# Sort the dataframe by date. Then reset the dataframe indices.\nmarket_df_sorted = market_df.sort_values(by=['time'])\nmarket_df_sorted.index = pd.RangeIndex(len(market_df_sorted.index))\n\n# Index and it's max value, to iterate through the market data dataframe\ndfIndex = 0\ndfSize = len(market_df_sorted)\n\nassetAvgList = []\nassetCount = 0",
      "execution_count": null,
      "outputs": []
    },
    {
      "metadata": {
        "_uuid": "ad937e60160803517e45c85e3794dff089712fc8"
      },
      "cell_type": "markdown",
      "source": "**Setting the Test Period **"
    },
    {
      "metadata": {
        "trusted": true,
        "_uuid": "f8ccff202b0f08d8d7ef1148a393049878a55882"
      },
      "cell_type": "code",
      "source": "# Input the start and end dates for the time period to be considered\n\nprint (\"\\n Enter test period start date (eg: 20 Dec 2014) :\")\nperiodStart = input()\nprint(\"\\n Enter test period end date (eg: 5 Jun 2014) :\")\nperiodEnd = input()\n\n# Convert the input string values to datetime objects and then to date objects\nperiodStart = dt.strptime(periodStart,'%d %b %Y')\nperiodStart = periodStart.date()\nperiodEnd = dt.strptime(periodEnd,'%d %b %Y')\nperiodEnd = periodEnd.date()",
      "execution_count": null,
      "outputs": []
    },
    {
      "metadata": {
        "_uuid": "e980896a4da48ff8f23246867530392fdc640045"
      },
      "cell_type": "markdown",
      "source": "**Picking a random sample of assets from the dataset**"
    },
    {
      "metadata": {
        "trusted": true,
        "_uuid": "bfd1d06600a8fcfc5c691e82e6ab2be1110a9a60"
      },
      "cell_type": "code",
      "source": "# Pick a sample of a few assets from the data and store it in a dictionary of dataframes - each asset in a dataframe\n\nlistIndex = 0        # Index to interate thru the list of sampled asset codes\nsampleSize = 10      # Number of assets to be picked for this program\n\nuniqueAssets = market_df_sorted.assetCode.unique()            # List of all unique assets in the data\nnumOfAssets = len(uniqueAssets)     \nprint(\"\\n Total number of unique assets in the dataset =\",numOfAssets)\n\nassetSampleList = np.random.choice(uniqueAssets,sampleSize)   # Pick a random sample of assets to test\n\n# Create a summary dataframe to store the asset codes and their number of occurances\ntestAssetsSummary = pd.DataFrame(columns=['assetCode','count'])\n\n# Initiate the summary dataframe with the asset codes, and count value as 0\nwhile (listIndex < sampleSize) :    \n    testAssetsSummary=testAssetsSummary.append({'assetCode':assetSampleList[listIndex], 'count':0},ignore_index=True)\n    listIndex += 1\nprint(testAssetsSummary)\n",
      "execution_count": null,
      "outputs": []
    },
    {
      "metadata": {
        "_uuid": "73239c27856ed65af6554e06280f964a52179d5b"
      },
      "cell_type": "markdown",
      "source": "**Creating data collections **\n- The data doesn't include all dates - only those dates on which trading was open. Pick out those dates to enable calculations.\n- Group the selected data by asset codes, and by trading dates."
    },
    {
      "metadata": {
        "trusted": true,
        "_uuid": "15a3c56c46ccdc7eee3e6b25846f2d80626e6c53"
      },
      "cell_type": "code",
      "source": "testDateList = list()\ntype(testDateList)\ndfIndex=0\nlistIndex = 0\n\n# Create 2 collections to hold all data from the sampled assets, for the test period\n\n# 1 - a dictionary of dataframes with key = assetCode, here the data is grouped by asset\ntestDfDict_A = dict.fromkeys(assetSampleList,pd.DataFrame())\n\n# Loop to copy data to the test collections, and calculate 'count' for each asset\nwhile dfIndex<dfSize :\n    currDate = market_df_sorted.at[dfIndex,'time'] \n    if currDate<periodStart :\n        dfIndex+=1\n        continue\n    elif currDate>periodEnd :\n        dfIndex+=1\n        break\n\n# Create a list of the trading days (dates with data) in the selected time period    \n    if currDate != market_df_sorted.at[dfIndex+1,'time'] :\n        testDateList.insert(listIndex, currDate)\n        testDfDict_D[currDate]=pd.DataFrame()\n        listIndex+=1\n\n# Copy only the data from the selected assets and the required test period\n    currAsset = market_df_sorted.at[dfIndex,'assetCode']\n    if currAsset in assetSampleList :\n        tempRowData = market_df_sorted.loc[dfIndex]\n        testDfDict_A[currAsset]=testDfDict_A[currAsset].append(tempRowData,ignore_index=True)\n\n# Increment 'count' - the number of occurances counter for each asset    \n    testAssetsSummary.loc[testAssetsSummary.assetCode==currAsset,'count']+=1\n    \n    dfIndex+=1\nprint(\"\\n List of all trading dates from the selected period :\\n\\n\")\ntestDateList",
      "execution_count": null,
      "outputs": []
    },
    {
      "metadata": {
        "trusted": true,
        "_uuid": "8971dc6b8bda4bd07db2469b21de0c544d457b66"
      },
      "cell_type": "code",
      "source": "# 2 - a dictionary of dataframes with key = time, here the data is grouped by date\ntestDfDict_D = dict.fromkeys(testDateList,pd.DataFrame())\ndfIndex=0\nwhile dfIndex<dfSize :\n    currDate=market_df_sorted.at[dfIndex,'time']\n    currAsset=market_df_sorted.at[dfIndex,'assetCode']\n    if currDate<periodStart :\n        dfIndex+=1\n        continue\n    elif currDate>periodEnd :\n        dfIndex+=1\n        break\n    if currAsset in assetSampleList :\n        tempRowData=market_df_sorted.loc[dfIndex]\n        testDfDict_D[currDate]=testDfDict_D[currDate].append(tempRowData,ignore_index=True)\n    dfIndex+=1\ntestDfDict_D",
      "execution_count": null,
      "outputs": []
    },
    {
      "metadata": {
        "_uuid": "5cb983f08f715aaceb99e256634a4a65df8228de"
      },
      "cell_type": "markdown",
      "source": "**Comparing returns and picking the portfolio**\n- Find which asset gives the maximum return on each day.\n- Store the asset code corresponding to the maximum return in the portfolio, for that date"
    },
    {
      "metadata": {
        "trusted": true,
        "_uuid": "de9f00d1f4ed66b2026c1b9f5cf49d631c317bc2"
      },
      "cell_type": "code",
      "source": "# 'portfolio' dataframe to hold details of which asset to invest in each day\nportfolio = pd.DataFrame(columns=['date','assigned','assetCode','returns'])\n\n# Calculate the highest possible return on each day\nmaxDailyReturns = dict.fromkeys(testDateList)\ndictIndex = 0\nmaxRet=0\ndateSize=len(testDateList)\n\nwhile (dictIndex<dateSize) :\n    currDate = testDateList[dictIndex]\n    maxDailyReturns[currDate] = testDfDict_D[currDate]['returnsOpenPrevRaw1'].max()\n    currAsset = testDfDict_D[currDate].loc[testDfDict_D[currDate]['returnsOpenPrevRaw1']==maxDailyReturns[currDate],'assetCode'].item()\n    if maxDailyReturns[currDate]>0 :\n        row = {'date':currDate,'assigned':True,'assetCode':currAsset,'returns':maxDailyReturns[currDate]}\n        portfolio=portfolio.append(row,ignore_index=True)\n    else :\n        row = {'date':currDate,'assigned':False,'assetCode':'None','returns':0}\n        portfolio=portfolio.append(row,ignore_index=True)\n    dictIndex += 1\nprint(portfolio)",
      "execution_count": 19,
      "outputs": [
        {
          "output_type": "stream",
          "text": "          date assigned assetCode   returns\n0   2009-05-01     True     KMX.N  0.008703\n1   2009-05-04     True     DLM.N  0.029333\n2   2009-05-05     True     DLM.N  0.033679\n3   2009-05-06     True     KMX.N  0.080997\n4   2009-05-07     True     TIa.N  0.028666\n5   2009-05-08     True     KTC.N  0.008208\n6   2009-05-11     True     NHP.N  0.013555\n7   2009-05-12     True     TIa.N  0.048087\n8   2009-05-13     True     KTC.N  0.004639\n9   2009-05-14     True     DLM.N  0.010063\n10  2009-05-15     True      MA.N  0.016235\n11  2009-05-18     True     TIa.N  0.040349\n12  2009-05-19     True     NHP.N  0.042783\n13  2009-05-20     True     TIa.N  0.021830\n14  2009-05-21    False      None  0.000000\n15  2009-05-22     True     NHP.N  0.018371\n16  2009-05-26    False      None  0.000000\n17  2009-05-27     True     KMX.N  0.073695\n18  2009-05-28     True     KTC.N  0.036870\n19  2009-05-29     True     KMX.N  0.041667\n20  2009-06-01     True     KTC.N  0.047861\n",
          "name": "stdout"
        }
      ]
    },
    {
      "metadata": {
        "_uuid": "8c7ae49ed858f4c321f4018d6e53c6b94316048a"
      },
      "cell_type": "markdown",
      "source": "On certain days, all the sampled assets could have negative returns. Since the goal is to maximize returns, no ivestment should have been made on such days. Thus, the resultant portfolio could have 'None' as the asset to be invested in, for some days in the test period."
    },
    {
      "metadata": {
        "trusted": true,
        "_uuid": "2384a948682f52b799c594bbd65e5f28b6f256dd"
      },
      "cell_type": "code",
      "source": "print(\"\\n Portfolio for maximum return :\\n\\n \",portfolio[['date','assetCode']])\n#print(\"\\n Maximized return = $\"+\"{0:.3f}\".format(100000*portfolio.returns.sum()))",
      "execution_count": 17,
      "outputs": [
        {
          "output_type": "stream",
          "text": "\n Portfolio for maximum return :\n\n            date assetCode\n0   2009-05-01     KMX.N\n1   2009-05-04     DLM.N\n2   2009-05-05     DLM.N\n3   2009-05-06     KMX.N\n4   2009-05-07     TIa.N\n5   2009-05-08     KTC.N\n6   2009-05-11     NHP.N\n7   2009-05-12     TIa.N\n8   2009-05-13     KTC.N\n9   2009-05-14     DLM.N\n10  2009-05-15      MA.N\n11  2009-05-18     TIa.N\n12  2009-05-19     NHP.N\n13  2009-05-20     TIa.N\n14  2009-05-21      None\n15  2009-05-22     NHP.N\n16  2009-05-26      None\n17  2009-05-27     KMX.N\n18  2009-05-28     KTC.N\n19  2009-05-29     KMX.N\n20  2009-06-01     KTC.N\n\n Maximized return = $60558.943\n",
          "name": "stdout"
        }
      ]
    },
    {
      "metadata": {
        "_uuid": "abd8937219ae39ce54f948f4b99f77595f776f7a"
      },
      "cell_type": "markdown",
      "source": "# Portfolio selection using predicted asset values\n*Objective*: Use historic asset prices to forecast future prices and pick portfolio which would maximize returns on the next day.\n*Strategy*: Use time-series forecasting methods to predict asset prices and determine the optimum portfolio by using a linear programming model."
    },
    {
      "metadata": {
        "trusted": true,
        "_uuid": "a99b40274b92c40c4d919d8a8c3ed71ce53af00c"
      },
      "cell_type": "code",
      "source": "#SIMPLE AVG RAW RETURNS\niterIndex=0\nassetsPresent = testDfDict_D[testDateList[0]].assetCode.unique()\n# Create a dictionary of size 30 to store the average returns of the sampled assets\navgRetSA = dict.fromkeys(assetSampleList,0)\n\n# Loop to calculate average returns for each asset\nfor iterName in avgRetSA.keys() :\n    # Condition to handle sampled assets which have no data in the given time period\n    if iterName in assetsPresent :\n        tempFrame = testDfDict_A[iterName]\n        avgRetSA[iterName] = tempFrame['returnsOpenPrevRaw1'].sum()/len(tempFrame.index)\n    \nprint(avgRetSA)\nprint(\"\\nMaximum avg return for an asset =\",max(avgRetSA.values()),\"%)\")\n\n# If the asset occurs only once in the dataframe, while condition will fail and\n# assetReturnsSum will remain 0. The following if clause remedies this case.\n    ",
      "execution_count": 15,
      "outputs": [
        {
          "output_type": "stream",
          "text": "{'PMI.N': 0, 'DLM.N': 0.004049915807019178, 'TRID.O': 0, 'TIa.N': 0.005070854713950836, 'SAH.N': 0, 'KTC.N': 0.0002262776152329462, 'MA.N': -0.0006920117549769278, 'NHP.N': 0.003918602531340217, 'KMX.N': -0.0041994484519927685, 'USCR.O': 0}\n\nMaximum avg return for an asset = 0.005070854713950836 %)\n",
          "name": "stdout"
        }
      ]
    },
    {
      "metadata": {
        "trusted": true,
        "_uuid": "12c0046de16d8f81dc0f38c6ef3a86b4505601fe"
      },
      "cell_type": "code",
      "source": "#MAXIMIZE RETURNS USING SA FORECAST\n\n#x_Opt = np.zeros(sampleSize, dtype=float)\nc = list(avgRetSA.values())\nneg = -1\ncNeg = neg*np.array(c)\n\nA_eq = np.array([[1]*sampleSize])\nb_eq = np.array([100000])\n\nres=linprog(cNeg,A_eq=A_eq,b_eq=b_eq,bounds=(0,100000))\n\nprint(\"Maximized Return for the next day = $\"+\"{0:.3f}\".format(res.fun*-1))\nprint(\"\\n Amount to be invested in each asset :\")\nprintList = list(avgRetSA.keys())\nfor i in range(sampleSize) :\n    print(\"\\n\",printList[i],\" = $\"+\"{0:.3f}\".format(res.x[i]))",
      "execution_count": 16,
      "outputs": [
        {
          "output_type": "stream",
          "text": "Maximized Return = $507.085\n\n Amount to be invested in each asset :\n\n PMI.N  = $0.000\n\n DLM.N  = $0.000\n\n TRID.O  = $0.000\n\n TIa.N  = $100000.000\n\n SAH.N  = $0.000\n\n KTC.N  = $0.000\n\n MA.N  = $0.000\n\n NHP.N  = $0.000\n\n KMX.N  = $0.000\n\n USCR.O  = $0.000\n",
          "name": "stdout"
        }
      ]
    }
  ],
  "metadata": {
    "kernelspec": {
      "display_name": "Python 3",
      "language": "python",
      "name": "python3"
    },
    "language_info": {
      "name": "python",
      "version": "3.6.6",
      "mimetype": "text/x-python",
      "codemirror_mode": {
        "name": "ipython",
        "version": 3
      },
      "pygments_lexer": "ipython3",
      "nbconvert_exporter": "python",
      "file_extension": ".py"
    }
  },
  "nbformat": 4,
  "nbformat_minor": 1
}