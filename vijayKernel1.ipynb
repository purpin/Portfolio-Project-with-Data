{
  "cells": [
    {
      "metadata": {
        "_uuid": "8f2839f25d086af736a60e9eeb907d3b93b6e0e5",
        "_cell_guid": "b1076dfc-b9ad-4769-8c92-a6c4dae69d19",
        "trusted": true
      },
      "cell_type": "code",
      "source": "# This Python 3 environment comes with many helpful analytics libraries installed\n# It is defined by the kaggle/python docker image: https://github.com/kaggle/docker-python\n# For example, here's several helpful packages to load in \n\nimport numpy as np # linear algebra\nimport pandas as pd # data processing, CSV file I/O (e.g. pd.read_csv)\n\n# Input data files are available in the \"../input/\" directory.\n# For example, running this (by clicking run or pressing Shift+Enter) will list the files in the input directory\n\nimport os\nprint(os.listdir(\"../input\"))\n\n# Any results you write to the current directory are saved as output.",
      "execution_count": null,
      "outputs": []
    },
    {
      "metadata": {
        "trusted": true,
        "_uuid": "9390fbc8c062740ff82a20c60b5d996ef8fb8503"
      },
      "cell_type": "code",
      "source": "from kaggle.competitions import twosigmanews\nenv = twosigmanews.make_env()\n(market_df, news_df) = env.get_training_data()",
      "execution_count": null,
      "outputs": []
    },
    {
      "metadata": {
        "_uuid": "c6bbcaacc819a77de9a4215cfc32a0fd038c3537"
      },
      "cell_type": "markdown",
      "source": "To output the training data dataframe as a csv : *market_df.to_csv('twosigmastock.csv',index=False)*"
    },
    {
      "metadata": {
        "trusted": true,
        "_uuid": "25fe310afbfb1da6cbc8e923cc16a627a9af0a2f"
      },
      "cell_type": "code",
      "source": "market_df['assetCode'].count",
      "execution_count": null,
      "outputs": []
    },
    {
      "metadata": {
        "_uuid": "9900d662ba28d110bd8466e4240a1701eff9678c"
      },
      "cell_type": "markdown",
      "source": "Sort the dataframe, first by assetCode and then by time.\n\navgRet1List - Array containing average percentage returns for a 1 day period, for all stocks."
    },
    {
      "metadata": {
        "trusted": true,
        "_uuid": "6d9745809b2ddff792c7b71301fb94db3da1fbab"
      },
      "cell_type": "code",
      "source": "sorted_Df = market_df.sort_values(['assetCode','time'])\nassetCodeList = list(sorted_Df.assetCode.unique())\n#^^ is a numpy.ndarray object\n\navgRet1Percent = [0]*len(assetCodeList)\n\nidx_aCode = 0\nctr = 0\nlimit = 5000\nwhile idx_aCode<len(assetCodeList) :\n    print(idx_aCode)\n    ctr+=1\n    if ctr<5000 :\n        for tempIndex, tempRow in sorted_Df.iterrows() :\n            if tempRow['assetCode']==assetCodeList[idx_aCode] :\n                avgRet1Percent[idx_aCode]+=sorted_Df.returnsOpenPrevRaw1\n    idx_aCode+=1\navgRet1Percent\n",
      "execution_count": null,
      "outputs": []
    }
  ],
  "metadata": {
    "kernelspec": {
      "display_name": "Python 3",
      "language": "python",
      "name": "python3"
    },
    "language_info": {
      "name": "python",
      "version": "3.6.6",
      "mimetype": "text/x-python",
      "codemirror_mode": {
        "name": "ipython",
        "version": 3
      },
      "pygments_lexer": "ipython3",
      "nbconvert_exporter": "python",
      "file_extension": ".py"
    }
  },
  "nbformat": 4,
  "nbformat_minor": 1
}