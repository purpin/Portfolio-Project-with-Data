{
  "cells": [
    {
      "metadata": {
        "_uuid": "8f2839f25d086af736a60e9eeb907d3b93b6e0e5",
        "_cell_guid": "b1076dfc-b9ad-4769-8c92-a6c4dae69d19",
        "trusted": true
      },
      "cell_type": "code",
      "source": "from kaggle.competitions import twosigmanews \nimport numpy as np \nimport pandas as pd \nfrom datetime import datetime as dt\n\nimport os\nprint(os.listdir(\"../input\"))\n\nenv = twosigmanews.make_env()\n(market_df, news_df) = env.get_training_data()\n\n# Rename columns to improve readability\nmarket_df=market_df.rename(index=str,columns={\"time\":\"date\"})\nmarket_df=market_df.rename(index=str,columns={\"returnsOpenPrevRaw1\":\"returns\"})\n# Convert the data type of 'date' column from datetime to date\nmarket_df['date']= market_df['date'].dt.date\n\n# Keep the required columns and drop the rest\nmarket_df = market_df[['date','assetCode','close','open','returns']].copy(deep=True)\ncolumnNames=['date','assetCode','close','open','returns']\nmarket_df = market_df.reindex(columns=columnNames)\n\n# Sort the dataframe by date and reset the dataframe indices.\nmarket_df = market_df.sort_values(by=['date'])\nmarket_df.index = pd.RangeIndex(len(market_df.index))\n\n# Index and it's max value, to iterate through the market data dataframe\ndfIndex = 0\ndfSize = len(market_df)",
      "execution_count": null,
      "outputs": []
    },
    {
      "metadata": {
        "trusted": true,
        "_uuid": "f8ccff202b0f08d8d7ef1148a393049878a55882"
      },
      "cell_type": "code",
      "source": "# Input the start and end dates for the time period to be considered\n\n#print (\"\\n Enter test period start date (eg: 20 Dec 2014) :\")\n# periodStart = input()\n# print(\"\\n Enter test period end date (eg: 5 Jun 2014) :\")\n# periodEnd = input()\nperiodStart = '1 may 2009'\nperiodEnd = '1 jun 2009'\n# Convert the input string values to datetime objects and then to date objects\nperiodStart = dt.strptime(periodStart,'%d %b %Y')\nperiodStart = periodStart.date()\nperiodEnd = dt.strptime(periodEnd,'%d %b %Y')\nperiodEnd = periodEnd.date()",
      "execution_count": null,
      "outputs": []
    },
    {
      "metadata": {
        "trusted": true,
        "_uuid": "bfd1d06600a8fcfc5c691e82e6ab2be1110a9a60"
      },
      "cell_type": "code",
      "source": "# Pick a sample of a few assets and store the corresponding data in a new dataframe\n\n# Create a new dataframe to hold the required data\nmarket_df_test = pd.DataFrame()\n\nlistIndex = 0        # Index to interate thru the list of sampled asset codes\nsampleSize = 30      # Number of assets to be picked for this program\ndfIndex=0\n\n# Create a list of all unique asset codes present in the dataset\nuniqueAssets = market_df.assetCode.unique()\n# Pick a random sample of assets to test\nassetSampleList = np.random.choice(uniqueAssets,sampleSize)   \n\n# Loop to copy data from the twosigmanews dataframe to the filtered dataframe\nwhile dfIndex<dfSize :\n    # Copy only the data from the selected assets and the required test period\n    currDate = market_df.at[dfIndex,'date'] \n    if currDate<periodStart :\n        dfIndex+=1\n        continue\n    elif currDate>periodEnd :\n        dfIndex+=1\n        break\n    \n    currAsset = market_df.at[dfIndex,'assetCode'] \n    if currAsset in assetSampleList :\n        tempRowData = market_df.loc[dfIndex]\n        market_df_test=market_df_test.append(tempRowData,ignore_index=True)\n    dfIndex+=1",
      "execution_count": null,
      "outputs": []
    },
    {
      "metadata": {
        "trusted": true,
        "_uuid": "103e1b5c6b05836c53e96c4858ae5b0cb1d9d27e"
      },
      "cell_type": "code",
      "source": "# Export the selected data as a csv file\nmarket_df_test.to_csv('twosigmanews_test.csv',index=False)",
      "execution_count": null,
      "outputs": []
    }
  ],
  "metadata": {
    "kernelspec": {
      "display_name": "Python 3",
      "language": "python",
      "name": "python3"
    },
    "language_info": {
      "name": "python",
      "version": "3.6.6",
      "mimetype": "text/x-python",
      "codemirror_mode": {
        "name": "ipython",
        "version": 3
      },
      "pygments_lexer": "ipython3",
      "nbconvert_exporter": "python",
      "file_extension": ".py"
    }
  },
  "nbformat": 4,
  "nbformat_minor": 1
}